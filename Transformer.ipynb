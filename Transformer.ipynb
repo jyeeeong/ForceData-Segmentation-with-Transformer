{
  "cells": [
    {
      "cell_type": "code",
      "execution_count": 1,
      "metadata": {
        "id": "_0aTaxPQ4-RR"
      },
      "outputs": [],
      "source": [
        "import torch\n",
        "from torch import nn, optim\n",
        "import numpy as np\n",
        "import os\n",
        "import torch\n",
        "import torch.nn as nn\n",
        "import torchvision.transforms as transforms\n",
        "import torchvision.datasets as dataset\n",
        "from torch.autograd import Variable\n",
        "from torch.nn import Parameter\n",
        "from torch import Tensor\n",
        "from torch.utils.data import DataLoader, Dataset\n",
        "import math"
      ]
    },
    {
      "cell_type": "code",
      "execution_count": 2,
      "metadata": {
        "colab": {
          "base_uri": "https://localhost:8080/"
        },
        "id": "hF67iuJz4_3Y",
        "outputId": "440d099f-ca79-406e-cc38-965fd5741f06"
      },
      "outputs": [],
      "source": [
        "#from google.colab import drive\n",
        "#drive.mount('/content/drive')"
      ]
    },
    {
      "cell_type": "code",
      "execution_count": 3,
      "metadata": {
        "colab": {
          "base_uri": "https://localhost:8080/"
        },
        "id": "CxPInb1ENEHL",
        "outputId": "10112335-db12-41eb-b7d7-3cb108efb339"
      },
      "outputs": [
        {
          "name": "stdout",
          "output_type": "stream",
          "text": [
            "1\n",
            "True\n",
            "11.8\n"
          ]
        }
      ],
      "source": [
        "print(torch.cuda.device_count())\n",
        "print(torch.cuda.is_available())\n",
        "print(torch.version.cuda)"
      ]
    },
    {
      "cell_type": "code",
      "execution_count": 4,
      "metadata": {
        "id": "sFz-zBLTMwc_"
      },
      "outputs": [
        {
          "name": "stdout",
          "output_type": "stream",
          "text": [
            "cuda:0\n"
          ]
        }
      ],
      "source": [
        "device = torch.device('cuda:0' if torch.cuda.is_available() else 'cpu')\n",
        "print(device)"
      ]
    },
    {
      "cell_type": "code",
      "execution_count": 5,
      "metadata": {},
      "outputs": [],
      "source": [
        "import random\n",
        "\n",
        "#Set seed\n",
        "SEED = 1234\n",
        "random.seed(SEED)\n",
        "np.random.seed(SEED)\n",
        "torch.manual_seed(SEED)\n",
        "torch.cuda.manual_seed_all(SEED)"
      ]
    },
    {
      "cell_type": "code",
      "execution_count": 6,
      "metadata": {
        "id": "40Vs22Aq5Bfe"
      },
      "outputs": [
        {
          "data": {
            "text/plain": [
              "\"\\nclass TimeSeriesDataset(Dataset):\\n    def __init__(self, root_dir, transform=None):\\n\\n        root_dir='./Label_DATA'\\n        self.data = []\\n        self.labels = []\\n        self.label_map = {'No Force': 0, 'Applying Force': 1, 'Deforming': 2, 'Releasing Force': 3}\\n        self.transform = transform\\n\\n        # 각 라벨별로 데이터 로드\\n        for label, idx in self.label_map.items():\\n            label_dir = os.path.join(root_dir, label)\\n            for fname in os.listdir(label_dir):\\n                file_path = os.path.join(label_dir, fname)\\n                time_series = np.loadtxt(file_path, delimiter=',')\\n                time_series = torch.tensor(time_series, dtype=torch.float32)\\n                self.data.append(time_series)\\n                self.labels.append(idx)\\n\\n    def __len__(self):\\n        return len(self.data)\\n\\n    def __getitem__(self, idx):\\n        data = self.data[idx]\\n        if self.transform:\\n            data = self.transform(data)\\n        return data, self.labels[idx]\\n\""
            ]
          },
          "execution_count": 6,
          "metadata": {},
          "output_type": "execute_result"
        }
      ],
      "source": [
        "'''\n",
        "class TimeSeriesDataset(Dataset):\n",
        "    def __init__(self, root_dir, transform=None):\n",
        "\n",
        "        root_dir='./Label_DATA'\n",
        "        self.data = []\n",
        "        self.labels = []\n",
        "        self.label_map = {'No Force': 0, 'Applying Force': 1, 'Deforming': 2, 'Releasing Force': 3}\n",
        "        self.transform = transform\n",
        "\n",
        "        # 각 라벨별로 데이터 로드\n",
        "        for label, idx in self.label_map.items():\n",
        "            label_dir = os.path.join(root_dir, label)\n",
        "            for fname in os.listdir(label_dir):\n",
        "                file_path = os.path.join(label_dir, fname)\n",
        "                time_series = np.loadtxt(file_path, delimiter=',')\n",
        "                time_series = torch.tensor(time_series, dtype=torch.float32)\n",
        "                self.data.append(time_series)\n",
        "                self.labels.append(idx)\n",
        "\n",
        "    def __len__(self):\n",
        "        return len(self.data)\n",
        "\n",
        "    def __getitem__(self, idx):\n",
        "        data = self.data[idx]\n",
        "        if self.transform:\n",
        "            data = self.transform(data)\n",
        "        return data, self.labels[idx]\n",
        "'''"
      ]
    },
    {
      "cell_type": "code",
      "execution_count": 7,
      "metadata": {
        "id": "q0TH_1mwI9pH"
      },
      "outputs": [
        {
          "data": {
            "text/plain": [
              "\"\\nfrom torch.utils.data import random_split\\n\\n# 데이터셋 인스턴스 생성\\ndataset = TimeSeriesDataset(root_dir='./Label_DATA')\\n\\n\\n# 데이터셋 크기에 따라 8:2 비율로 분할\\n#train_size = int(0.8 * len(dataset))\\n#test_size = len(dataset) - train_size\\n#train_dataset, test_dataset = random_split(dataset, [train_size, test_size])\\n\\n# 데이터로더 설정\\n#train_loader = DataLoader(train_dataset, batch_size, shuffle=True)\\n#test_loader = DataLoader(test_dataset, batch_size, shuffle=False)\\n\\ntrain_size = int(0.7 * len(dataset))\\nval_size = int(0.2 * len(dataset))\\ntest_size = len(dataset) - train_size - val_size\\ntrain_dataset, val_dataset, test_dataset = random_split(dataset, [train_size, val_size, test_size])\\n\\n\""
            ]
          },
          "execution_count": 7,
          "metadata": {},
          "output_type": "execute_result"
        }
      ],
      "source": [
        "'''\n",
        "from torch.utils.data import random_split\n",
        "\n",
        "# 데이터셋 인스턴스 생성\n",
        "dataset = TimeSeriesDataset(root_dir='./Label_DATA')\n",
        "\n",
        "\n",
        "# 데이터셋 크기에 따라 8:2 비율로 분할\n",
        "#train_size = int(0.8 * len(dataset))\n",
        "#test_size = len(dataset) - train_size\n",
        "#train_dataset, test_dataset = random_split(dataset, [train_size, test_size])\n",
        "\n",
        "# 데이터로더 설정\n",
        "#train_loader = DataLoader(train_dataset, batch_size, shuffle=True)\n",
        "#test_loader = DataLoader(test_dataset, batch_size, shuffle=False)\n",
        "\n",
        "train_size = int(0.7 * len(dataset))\n",
        "val_size = int(0.2 * len(dataset))\n",
        "test_size = len(dataset) - train_size - val_size\n",
        "train_dataset, val_dataset, test_dataset = random_split(dataset, [train_size, val_size, test_size])\n",
        "\n",
        "'''"
      ]
    },
    {
      "cell_type": "code",
      "execution_count": 8,
      "metadata": {
        "id": "TB8ZN35T55FS"
      },
      "outputs": [
        {
          "data": {
            "text/plain": [
              "'\\nfrom torch.nn.utils.rnn import pad_sequence\\n\\n# 데이터 변환 예: 패딩과 배치 단위 처리\\nclass PadSequence:\\n    def __call__(self, batch):\\n        # batch 내의 시계열 데이터를 Tensor 리스트로 준비\\n        data = [item[0] for item in batch]\\n        labels = torch.tensor([item[1] for item in batch], dtype=torch.long)\\n        data = pad_sequence(data, batch_first=True, padding_value=0)\\n        return data, labels\\n\\n\\n# 데이터로더에서 이 변환 사용\\n#train_loader = DataLoader(train_dataset, batch_size, shuffle=True, collate_fn=PadSequence())\\n#test_loader = DataLoader(test_dataset, batch_size, shuffle=False, collate_fn=PadSequence())\\nbatch_size = 64\\ntrain_loader = DataLoader(train_dataset, batch_size=batch_size, shuffle=True, collate_fn=PadSequence())\\nval_loader = DataLoader(val_dataset, batch_size=batch_size, shuffle=False, collate_fn=PadSequence())\\ntest_loader = DataLoader(test_dataset, batch_size=batch_size, shuffle=False, collate_fn=PadSequence())\\n'"
            ]
          },
          "execution_count": 8,
          "metadata": {},
          "output_type": "execute_result"
        }
      ],
      "source": [
        "'''\n",
        "from torch.nn.utils.rnn import pad_sequence\n",
        "\n",
        "# 데이터 변환 예: 패딩과 배치 단위 처리\n",
        "class PadSequence:\n",
        "    def __call__(self, batch):\n",
        "        # batch 내의 시계열 데이터를 Tensor 리스트로 준비\n",
        "        data = [item[0] for item in batch]\n",
        "        labels = torch.tensor([item[1] for item in batch], dtype=torch.long)\n",
        "        data = pad_sequence(data, batch_first=True, padding_value=0)\n",
        "        return data, labels\n",
        "\n",
        "\n",
        "# 데이터로더에서 이 변환 사용\n",
        "#train_loader = DataLoader(train_dataset, batch_size, shuffle=True, collate_fn=PadSequence())\n",
        "#test_loader = DataLoader(test_dataset, batch_size, shuffle=False, collate_fn=PadSequence())\n",
        "batch_size = 64\n",
        "train_loader = DataLoader(train_dataset, batch_size=batch_size, shuffle=True, collate_fn=PadSequence())\n",
        "val_loader = DataLoader(val_dataset, batch_size=batch_size, shuffle=False, collate_fn=PadSequence())\n",
        "test_loader = DataLoader(test_dataset, batch_size=batch_size, shuffle=False, collate_fn=PadSequence())\n",
        "'''"
      ]
    },
    {
      "cell_type": "code",
      "execution_count": 9,
      "metadata": {},
      "outputs": [],
      "source": [
        "from torch.utils.data import Subset\n",
        "from sklearn.model_selection import train_test_split\n",
        "from torch.utils.data import DataLoader\n",
        "from torch.nn.utils.rnn import pad_sequence\n",
        "\n",
        "\n",
        "class TimeSeriesDataset(Dataset):\n",
        "    def __init__(self, root_dir, transform=None):\n",
        "        root_dir = './Label_DATA_XXL_XXL'\n",
        "        self.data = []\n",
        "        self.labels = []\n",
        "        self.file_paths = []\n",
        "        self.label_map = {'No Force': 0, 'Applying Force': 1, 'Deforming': 2, 'Releasing Force': 3}\n",
        "        self.transform = transform\n",
        "\n",
        "        for label, idx in self.label_map.items():\n",
        "            label_dir = os.path.join(root_dir, label)\n",
        "            for fname in os.listdir(label_dir):\n",
        "                file_path = os.path.join(label_dir, fname)\n",
        "                #데이터셋 예외처리\n",
        "                try:\n",
        "                    time_series = np.loadtxt(file_path, delimiter=',')\n",
        "                    if time_series.shape[1] != 3 or len(time_series.shape) != 2:\n",
        "                        raise ValueError(f\"Unexpected data shape in file {file_path}: {time_series.shape}\")\n",
        "                    time_series = torch.tensor(time_series, dtype=torch.float32)\n",
        "                    self.data.append(time_series)\n",
        "                    self.labels.append(idx)\n",
        "                    self.file_paths.append(file_path)\n",
        "                except Exception as e:\n",
        "                    print(f\"Error loading file {file_path}: {e}\")\n",
        "\n",
        "                # time_series = np.loadtxt(file_path, delimiter=',')\n",
        "                # time_series = torch.tensor(time_series, dtype=torch.float32)\n",
        "                # self.data.append(time_series)\n",
        "                # self.labels.append(idx)\n",
        "                # self.file_paths.append(file_path)  # 파일 경로 추가\n",
        "\n",
        "    def __len__(self):\n",
        "        return len(self.data)\n",
        "\n",
        "    def __getitem__(self, idx):\n",
        "        data = self.data[idx]\n",
        "        if self.transform:\n",
        "            data = self.transform(data)\n",
        "        # 데이터, 레이블, 파일 경로를 반환\n",
        "        return data, self.labels[idx], self.file_paths[idx]\n",
        "    \n",
        "class PadSequence:\n",
        "    def __call__(self, batch):\n",
        "        # batch 내의 시계열 데이터를 Tensor 리스트로 준비\n",
        "        data = [item[0] for item in batch]\n",
        "        labels = torch.tensor([item[1] for item in batch], dtype=torch.long)\n",
        "        data = pad_sequence(data, batch_first=True, padding_value=0)\n",
        "        file_paths = [item[2] for item in batch]\n",
        "        return data, labels, file_paths\n",
        "    \n",
        "def create_data_loaders(dataset, train_size=0.7, val_size=0.2, test_size=0.1, batch_size=32):\n",
        "    # 데이터 인덱스 생성\n",
        "    indices = list(range(len(dataset)))\n",
        "    \n",
        "    # 훈련, 검증, 테스트 데이터셋 인덱스 분할\n",
        "    train_val_idx, test_idx = train_test_split(indices, test_size=test_size, stratify=dataset.labels)\n",
        "    train_idx, val_idx = train_test_split(train_val_idx, test_size=val_size / (train_size + val_size), stratify=[dataset.labels[i] for i in train_val_idx])\n",
        "    \n",
        "    # 데이터 로더 생성\n",
        "    train_loader = DataLoader(Subset(dataset, train_idx), batch_size=batch_size, shuffle=True, collate_fn=PadSequence())\n",
        "    val_loader = DataLoader(Subset(dataset, val_idx), batch_size=batch_size, shuffle=False, collate_fn=PadSequence())\n",
        "    test_loader = DataLoader(Subset(dataset, test_idx), batch_size=batch_size, shuffle=False, collate_fn=PadSequence())\n",
        "    \n",
        "    return train_loader, val_loader, test_loader\n",
        "\n",
        "# 데이터셋 인스턴스 생성\n",
        "dataset = TimeSeriesDataset(root_dir ='./Label_DATA_XXL_XXL')\n",
        "train_loader, val_loader, test_loader = create_data_loaders(dataset)\n"
      ]
    },
    {
      "cell_type": "code",
      "execution_count": 10,
      "metadata": {},
      "outputs": [],
      "source": [
        "# from torch.utils.data import Subset\n",
        "# from sklearn.model_selection import train_test_split\n",
        "# from torch.utils.data import DataLoader\n",
        "# from torch.nn.utils.rnn import pad_sequence\n",
        "\n",
        "\n",
        "# class TimeSeriesDataset(Dataset):\n",
        "#     def __init__(self, root_dir, transform=None):\n",
        "#         self.data = []\n",
        "#         self.labels = []\n",
        "#         self.file_paths = []\n",
        "#         self.label_map = {'No Force': 0, 'Applying Force': 1, 'Deforming': 2, 'Releasing Force': 3}\n",
        "#         self.transform = transform\n",
        "\n",
        "#         # 각 라벨별로 데이터 로드 및 정렬\n",
        "#         all_files = []\n",
        "#         for label, idx in self.label_map.items():\n",
        "#             label_dir = os.path.join(root_dir, label)\n",
        "#             for fname in sorted(os.listdir(label_dir)):\n",
        "#                 file_path = os.path.join(label_dir, fname)\n",
        "#                 all_files.append((file_path, idx))\n",
        "\n",
        "#         # 파일명을 기준으로 정렬\n",
        "#         all_files.sort(key=lambda x: x[0])\n",
        "\n",
        "#         for file_path, label in all_files:\n",
        "#             time_series = np.loadtxt(file_path, delimiter=',')\n",
        "#             time_series = torch.tensor(time_series, dtype=torch.float32)\n",
        "#             self.data.append(time_series)\n",
        "#             self.labels.append(label)\n",
        "#             self.file_paths.append(file_path)\n",
        "#             #데이터셋 예외처리\n",
        "#             try:\n",
        "#                 time_series = np.loadtxt(file_path, delimiter=',')\n",
        "#                 if time_series.shape[1] != 3 or len(time_series.shape) != 2:\n",
        "#                     raise ValueError(f\"Unexpected data shape in file {file_path}: {time_series.shape}\")\n",
        "#                 time_series = torch.tensor(time_series, dtype=torch.float32)\n",
        "#                 self.data.append(time_series)\n",
        "#                 self.labels.append(idx)\n",
        "#                 self.file_paths.append(file_path)\n",
        "#             except Exception as e:\n",
        "#                 print(f\"Error loading file {file_path}: {e}\")\n",
        "\n",
        "#                 # time_series = np.loadtxt(file_path, delimiter=',')\n",
        "#                 # time_series = torch.tensor(time_series, dtype=torch.float32)\n",
        "#                 # self.data.append(time_series)\n",
        "#                 # self.labels.append(idx)\n",
        "#                 # self.file_paths.append(file_path)  # 파일 경로 추가\n",
        "\n",
        "#     def __len__(self):\n",
        "#         return len(self.data)\n",
        "\n",
        "#     def __getitem__(self, idx):\n",
        "#         data = self.data[idx]\n",
        "#         if self.transform:\n",
        "#             data = self.transform(data)\n",
        "#         # 데이터, 레이블, 파일 경로를 반환\n",
        "#         return data, self.labels[idx], self.file_paths[idx]\n",
        "    \n",
        "# class PadSequence:\n",
        "#     def __call__(self, batch):\n",
        "#         data = [item[0] for item in batch]\n",
        "#         labels = torch.tensor([item[1] for item in batch], dtype=torch.long)\n",
        "#         data = pad_sequence(data, batch_first=True, padding_value=0)\n",
        "#         file_paths = [item[2] for item in batch]\n",
        "#         return data, labels, file_paths\n",
        "    \n",
        "# # 데이터셋 및 데이터로더 설정\n",
        "# root_dir = './Label_DATA_Teacher1'\n",
        "# dataset = TimeSeriesDataset(root_dir=root_dir)\n",
        "# batch_size = 16\n",
        "# train_size = int(0.7 * len(dataset))\n",
        "# val_size = int(0.2 * len(dataset))\n",
        "# test_size = len(dataset) - train_size - val_size\n",
        "# train_dataset, val_dataset, test_dataset = torch.utils.data.random_split(dataset, [train_size, val_size, test_size])\n",
        "\n",
        "# train_loader = DataLoader(train_dataset, batch_size=batch_size, shuffle=False, collate_fn=PadSequence())\n",
        "# val_loader = DataLoader(val_dataset, batch_size=batch_size, shuffle=False, collate_fn=PadSequence())\n",
        "# test_loader = DataLoader(test_dataset, batch_size=batch_size, shuffle=False, collate_fn=PadSequence())\n"
      ]
    },
    {
      "cell_type": "code",
      "execution_count": 11,
      "metadata": {},
      "outputs": [
        {
          "name": "stdout",
          "output_type": "stream",
          "text": [
            "Train label distribution: {0: 302, 1: 316, 2: 322, 3: 308}\n",
            "Validation label distribution: {0: 87, 1: 90, 2: 92, 3: 88}\n",
            "Test label distribution: {0: 43, 1: 46, 2: 46, 3: 44}\n"
          ]
        }
      ],
      "source": [
        "def count_labels(data_loader):\n",
        "    label_count = {0: 0, 1: 0, 2: 0, 3: 0}\n",
        "    for _, labels, _ in data_loader:\n",
        "        # print(\"Batch labels shape:\", labels.shape)\n",
        "        for label in labels:\n",
        "            # print(\"Label:\", label)\n",
        "            label_count[int(label)] += 1\n",
        "    return label_count\n",
        "\n",
        "# 각 데이터셋의 라벨 분포 확인\n",
        "train_label_count = count_labels(train_loader)\n",
        "val_label_count = count_labels(val_loader)\n",
        "test_label_count = count_labels(test_loader)\n",
        "\n",
        "print(\"Train label distribution:\", train_label_count)\n",
        "print(\"Validation label distribution:\", val_label_count)\n",
        "print(\"Test label distribution:\", test_label_count)"
      ]
    },
    {
      "cell_type": "code",
      "execution_count": 12,
      "metadata": {
        "id": "u5c8sm_s5G2u"
      },
      "outputs": [],
      "source": [
        "import torch\n",
        "import torch.nn as nn\n",
        "import torch.nn.functional as F\n",
        "import math\n",
        "\n",
        "class PositionalEncoding(nn.Module):\n",
        "    def __init__(self, d_model, max_len=5000, device=torch.device('cpu')):\n",
        "        super(PositionalEncoding, self).__init__()\n",
        "        self.encoding = torch.zeros(max_len, d_model, device=device)\n",
        "        position = torch.arange(0, max_len, dtype=torch.float, device=device).unsqueeze(1)\n",
        "        div_term = torch.exp(torch.arange(0, d_model, 2).float() * (-math.log(10000.0) / d_model)).to(device)\n",
        "        self.encoding[:, 0::2] = torch.sin(position * div_term)\n",
        "        self.encoding[:, 1::2] = torch.cos(position * div_term)\n",
        "        self.encoding = self.encoding.unsqueeze(0)\n",
        "\n",
        "    def forward(self, x):\n",
        "        return x + self.encoding[:, :x.size(1)]\n",
        "\n",
        "\n",
        "class TransformerModel(nn.Module):\n",
        "    def __init__(self, input_size, num_classes, d_model=512, nhead=8, num_encoder_layers=6, dim_feedforward=1024,\n",
        "                 dropout=0.01, device=torch.device('cpu')):\n",
        "        super(TransformerModel, self).__init__()\n",
        "        self.input_size = input_size\n",
        "        self.d_model = d_model\n",
        "        # 입력 데이터를 d_model 차원으로 변환\n",
        "        self.embedding = nn.Linear(input_size, d_model)\n",
        "        # self.relu1 = nn.ReLU()  # 첫 번째 ReLU 활성화 함수 추가\n",
        "        self.pos_encoder = PositionalEncoding(d_model, device=device)\n",
        "        encoder_layers = nn.TransformerEncoderLayer(d_model, nhead, dim_feedforward, dropout, batch_first=True)\n",
        "        self.transformer_encoder = nn.TransformerEncoder(encoder_layers, num_encoder_layers)\n",
        "        self.fc_out = nn.Linear(d_model, num_classes)\n",
        "        # self.relu2 = nn.ReLU()  # 출력 전 ReLU 활성화 함수 추가\n",
        "\n",
        "    def forward(self, src):\n",
        "        #print(f\"Original src shape: {src.shape}\")\n",
        "        src = self.embedding(src) * math.sqrt(self.d_model)\n",
        "        #print(f\"After embedding shape: {src.shape}\")\n",
        "        # src = self.relu1(src)  # 첫 번째 ReLU 적용\n",
        "        src = self.pos_encoder(src)\n",
        "        #print(f\"After positional encoding shape: {src.shape}\")\n",
        "        # print(src.shape)\n",
        "        output = self.transformer_encoder(src)\n",
        "        #print(f\"After transformer encoder shape: {output.shape}\")\n",
        "        output = output.mean(dim=1)  # 평균 풀링\n",
        "        #print(f\"After mean pooling shape: {output.shape}\")\n",
        "        output = self.fc_out(output)\n",
        "        #print(f\"After final linear layer shape: {output.shape}\")\n",
        "        # output = self.relu2(output)  # 출력 전 ReLU 적용\n",
        "        return output\n"
      ]
    },
    {
      "cell_type": "code",
      "execution_count": 13,
      "metadata": {
        "id": "m7HTiJI7_oXm"
      },
      "outputs": [],
      "source": [
        "device = torch.device('cuda' if torch.cuda.is_available() else 'cpu')"
      ]
    },
    {
      "cell_type": "code",
      "execution_count": 14,
      "metadata": {
        "id": "ERyce-q_a9zA"
      },
      "outputs": [],
      "source": [
        "import torch.nn.functional as F\n",
        "\n",
        "def custom_loss(outputs, labels):\n",
        "    softmax_outputs = F.log_softmax(outputs, dim=1)\n",
        "    return F.nll_loss(softmax_outputs, labels)"
      ]
    },
    {
      "cell_type": "code",
      "execution_count": 15,
      "metadata": {
        "id": "z5rgzpUSbWRV"
      },
      "outputs": [],
      "source": [
        "input_size = 3  # 입력 차원\n",
        "#input_size = dataset[0][0].shape[1]\n",
        "num_classes = 4  # 클래스 수\n",
        "num_epochs = 100\n",
        "learning_rate = 0.0001\n",
        "model = TransformerModel(input_size, num_classes, device=device).to(device)\n",
        "\n",
        "from torch.optim.lr_scheduler import StepLR\n",
        "\n",
        "optimizer = torch.optim.Adam(model.parameters(), learning_rate)\n",
        "scheduler = StepLR(optimizer, step_size=30, gamma=0.1)\n",
        "criterion = nn.CrossEntropyLoss()"
      ]
    },
    {
      "cell_type": "code",
      "execution_count": 16,
      "metadata": {
        "colab": {
          "base_uri": "https://localhost:8080/"
        },
        "id": "xIRF5BP4qpuj",
        "outputId": "a7e44334-cc10-4857-9ffd-d39d058e7501"
      },
      "outputs": [
        {
          "data": {
            "text/plain": [
              "TransformerModel(\n",
              "  (embedding): Linear(in_features=3, out_features=512, bias=True)\n",
              "  (pos_encoder): PositionalEncoding()\n",
              "  (transformer_encoder): TransformerEncoder(\n",
              "    (layers): ModuleList(\n",
              "      (0-5): 6 x TransformerEncoderLayer(\n",
              "        (self_attn): MultiheadAttention(\n",
              "          (out_proj): NonDynamicallyQuantizableLinear(in_features=512, out_features=512, bias=True)\n",
              "        )\n",
              "        (linear1): Linear(in_features=512, out_features=1024, bias=True)\n",
              "        (dropout): Dropout(p=0.01, inplace=False)\n",
              "        (linear2): Linear(in_features=1024, out_features=512, bias=True)\n",
              "        (norm1): LayerNorm((512,), eps=1e-05, elementwise_affine=True)\n",
              "        (norm2): LayerNorm((512,), eps=1e-05, elementwise_affine=True)\n",
              "        (dropout1): Dropout(p=0.01, inplace=False)\n",
              "        (dropout2): Dropout(p=0.01, inplace=False)\n",
              "      )\n",
              "    )\n",
              "  )\n",
              "  (fc_out): Linear(in_features=512, out_features=4, bias=True)\n",
              ")"
            ]
          },
          "execution_count": 16,
          "metadata": {},
          "output_type": "execute_result"
        }
      ],
      "source": [
        "model"
      ]
    },
    {
      "cell_type": "code",
      "execution_count": 17,
      "metadata": {},
      "outputs": [],
      "source": [
        "class EarlyStopping:\n",
        "    def __init__(self, patience=5, min_delta=0):\n",
        "        \"\"\"\n",
        "        Args:\n",
        "            patience (int): Loss가 개선되지 않는 epoch 수\n",
        "            min_delta (float): 이전 Loss 대비 개선된 것으로 인정할 최소 감소량\n",
        "        \"\"\"\n",
        "        self.patience = patience\n",
        "        self.min_delta = min_delta\n",
        "        self.counter = 0\n",
        "        self.best_loss = None\n",
        "        self.early_stop = False\n",
        "\n",
        "    def __call__(self, val_loss):\n",
        "        if self.best_loss is None:\n",
        "            self.best_loss = val_loss\n",
        "        elif self.best_loss - val_loss > self.min_delta:\n",
        "            self.best_loss = val_loss\n",
        "            self.counter = 0\n",
        "        else:\n",
        "            self.counter += 1\n",
        "            if self.counter >= self.patience:\n",
        "                self.early_stop = True\n",
        "\n",
        "# 학습 루프에 조기 중단 로직 적용\n",
        "early_stopping = EarlyStopping(patience=5, min_delta=0.1)"
      ]
    },
    {
      "cell_type": "code",
      "execution_count": 18,
      "metadata": {
        "colab": {
          "base_uri": "https://localhost:8080/"
        },
        "id": "b9DT-DXXWxxv",
        "outputId": "918ed086-6381-45cd-eb4a-da44e09cd9f0"
      },
      "outputs": [
        {
          "name": "stdout",
          "output_type": "stream",
          "text": [
            "Epoch 1, Train Loss: 1.1557, Train Accuracy: 0.4495, Val Loss: 0.9775, Val Accuracy: 0.5434\n",
            "Epoch 2, Train Loss: 0.8880, Train Accuracy: 0.5913, Val Loss: 0.8294, Val Accuracy: 0.6134\n",
            "Epoch 3, Train Loss: 0.8502, Train Accuracy: 0.6122, Val Loss: 0.8687, Val Accuracy: 0.6078\n",
            "Epoch 4, Train Loss: 0.8687, Train Accuracy: 0.5970, Val Loss: 0.8102, Val Accuracy: 0.6527\n",
            "Epoch 5, Train Loss: 0.7605, Train Accuracy: 0.6659, Val Loss: 0.7337, Val Accuracy: 0.6611\n",
            "Epoch 6, Train Loss: 0.7370, Train Accuracy: 0.7179, Val Loss: 0.7645, Val Accuracy: 0.6891\n",
            "Epoch 7, Train Loss: 0.7395, Train Accuracy: 0.6915, Val Loss: 0.6583, Val Accuracy: 0.7227\n",
            "Epoch 8, Train Loss: 0.6762, Train Accuracy: 0.7059, Val Loss: 0.7365, Val Accuracy: 0.6555\n",
            "Epoch 9, Train Loss: 0.7178, Train Accuracy: 0.6691, Val Loss: 0.6853, Val Accuracy: 0.7059\n",
            "Epoch 10, Train Loss: 0.6854, Train Accuracy: 0.7292, Val Loss: 0.6618, Val Accuracy: 0.7255\n",
            "Epoch 11, Train Loss: 0.6445, Train Accuracy: 0.7324, Val Loss: 0.7073, Val Accuracy: 0.7059\n",
            "Epoch 12, Train Loss: 0.6388, Train Accuracy: 0.7316, Val Loss: 0.6246, Val Accuracy: 0.7367\n",
            "Epoch 13, Train Loss: 0.6635, Train Accuracy: 0.7188, Val Loss: 0.6343, Val Accuracy: 0.7563\n",
            "Epoch 14, Train Loss: 0.5840, Train Accuracy: 0.7500, Val Loss: 0.8240, Val Accuracy: 0.6891\n",
            "Epoch 15, Train Loss: 0.6046, Train Accuracy: 0.7492, Val Loss: 0.5678, Val Accuracy: 0.7955\n",
            "Epoch 16, Train Loss: 0.5907, Train Accuracy: 0.7516, Val Loss: 0.6061, Val Accuracy: 0.7283\n",
            "Epoch 17, Train Loss: 0.6026, Train Accuracy: 0.7348, Val Loss: 0.6853, Val Accuracy: 0.7339\n",
            "Epoch 18, Train Loss: 0.6423, Train Accuracy: 0.7179, Val Loss: 0.6851, Val Accuracy: 0.7451\n",
            "Epoch 19, Train Loss: 0.5742, Train Accuracy: 0.7644, Val Loss: 0.5635, Val Accuracy: 0.7871\n",
            "Epoch 20, Train Loss: 0.5629, Train Accuracy: 0.7668, Val Loss: 0.5862, Val Accuracy: 0.7535\n",
            "Epoch 21, Train Loss: 0.5687, Train Accuracy: 0.7644, Val Loss: 0.5464, Val Accuracy: 0.7927\n",
            "Epoch 22, Train Loss: 0.5385, Train Accuracy: 0.7821, Val Loss: 0.5841, Val Accuracy: 0.7759\n",
            "Epoch 23, Train Loss: 0.5805, Train Accuracy: 0.7596, Val Loss: 0.5799, Val Accuracy: 0.7843\n",
            "Epoch 24, Train Loss: 0.5570, Train Accuracy: 0.7812, Val Loss: 0.5164, Val Accuracy: 0.8151\n",
            "Epoch 25, Train Loss: 0.5109, Train Accuracy: 0.7957, Val Loss: 0.5850, Val Accuracy: 0.7843\n",
            "Epoch 26, Train Loss: 0.5198, Train Accuracy: 0.7917, Val Loss: 0.5834, Val Accuracy: 0.7703\n",
            "Epoch 27, Train Loss: 0.5576, Train Accuracy: 0.7684, Val Loss: 0.6986, Val Accuracy: 0.7339\n",
            "Epoch 28, Train Loss: 0.5180, Train Accuracy: 0.7981, Val Loss: 0.5431, Val Accuracy: 0.7955\n",
            "Epoch 29, Train Loss: 0.4984, Train Accuracy: 0.8021, Val Loss: 0.5288, Val Accuracy: 0.8151\n",
            "Epoch 30, Train Loss: 0.5531, Train Accuracy: 0.7788, Val Loss: 0.7501, Val Accuracy: 0.6275\n",
            "Epoch 31, Train Loss: 0.5324, Train Accuracy: 0.7853, Val Loss: 0.5967, Val Accuracy: 0.7647\n",
            "Epoch 32, Train Loss: 0.4811, Train Accuracy: 0.8045, Val Loss: 0.4771, Val Accuracy: 0.8319\n",
            "Epoch 33, Train Loss: 0.4836, Train Accuracy: 0.7989, Val Loss: 0.6148, Val Accuracy: 0.7451\n",
            "Epoch 34, Train Loss: 0.4973, Train Accuracy: 0.8053, Val Loss: 0.5096, Val Accuracy: 0.8179\n",
            "Epoch 35, Train Loss: 0.4691, Train Accuracy: 0.8197, Val Loss: 0.5870, Val Accuracy: 0.7815\n",
            "Epoch 36, Train Loss: 0.5336, Train Accuracy: 0.7853, Val Loss: 0.5371, Val Accuracy: 0.8095\n",
            "Epoch 37, Train Loss: 0.4638, Train Accuracy: 0.8125, Val Loss: 0.5205, Val Accuracy: 0.8011\n",
            "Epoch 38, Train Loss: 0.4843, Train Accuracy: 0.7949, Val Loss: 0.5673, Val Accuracy: 0.7871\n",
            "Epoch 39, Train Loss: 0.4794, Train Accuracy: 0.8133, Val Loss: 0.5267, Val Accuracy: 0.8067\n",
            "Epoch 40, Train Loss: 0.4547, Train Accuracy: 0.8157, Val Loss: 0.4836, Val Accuracy: 0.8291\n",
            "Epoch 41, Train Loss: 0.4418, Train Accuracy: 0.8293, Val Loss: 0.5033, Val Accuracy: 0.8235\n",
            "Epoch 42, Train Loss: 0.4496, Train Accuracy: 0.8229, Val Loss: 0.4834, Val Accuracy: 0.8095\n",
            "Epoch 43, Train Loss: 0.4393, Train Accuracy: 0.8253, Val Loss: 0.5459, Val Accuracy: 0.8151\n",
            "Epoch 44, Train Loss: 0.4408, Train Accuracy: 0.8197, Val Loss: 0.5506, Val Accuracy: 0.8067\n",
            "Epoch 45, Train Loss: 0.4381, Train Accuracy: 0.8157, Val Loss: 0.5302, Val Accuracy: 0.8039\n",
            "Epoch 46, Train Loss: 0.4360, Train Accuracy: 0.8237, Val Loss: 0.5337, Val Accuracy: 0.8207\n",
            "Epoch 47, Train Loss: 0.4163, Train Accuracy: 0.8309, Val Loss: 0.4890, Val Accuracy: 0.8347\n",
            "Epoch 48, Train Loss: 0.4204, Train Accuracy: 0.8317, Val Loss: 0.5374, Val Accuracy: 0.8347\n",
            "Epoch 49, Train Loss: 0.4290, Train Accuracy: 0.8309, Val Loss: 0.5331, Val Accuracy: 0.8151\n",
            "Epoch 50, Train Loss: 0.4405, Train Accuracy: 0.8221, Val Loss: 0.5116, Val Accuracy: 0.8179\n",
            "Epoch 51, Train Loss: 0.4529, Train Accuracy: 0.8213, Val Loss: 0.4924, Val Accuracy: 0.8151\n",
            "Epoch 52, Train Loss: 0.4227, Train Accuracy: 0.8325, Val Loss: 0.5236, Val Accuracy: 0.8151\n",
            "Epoch 53, Train Loss: 0.4126, Train Accuracy: 0.8389, Val Loss: 0.5470, Val Accuracy: 0.7983\n",
            "Epoch 54, Train Loss: 0.4247, Train Accuracy: 0.8189, Val Loss: 0.5398, Val Accuracy: 0.8207\n",
            "Epoch 55, Train Loss: 0.4199, Train Accuracy: 0.8454, Val Loss: 0.5066, Val Accuracy: 0.8235\n",
            "Epoch 56, Train Loss: 0.4083, Train Accuracy: 0.8421, Val Loss: 0.4812, Val Accuracy: 0.8095\n",
            "Epoch 57, Train Loss: 0.3927, Train Accuracy: 0.8397, Val Loss: 0.4935, Val Accuracy: 0.8151\n",
            "Epoch 58, Train Loss: 0.3953, Train Accuracy: 0.8462, Val Loss: 0.5116, Val Accuracy: 0.7899\n",
            "Epoch 59, Train Loss: 0.4259, Train Accuracy: 0.8245, Val Loss: 0.5030, Val Accuracy: 0.8123\n",
            "Epoch 60, Train Loss: 0.4140, Train Accuracy: 0.8253, Val Loss: 0.5805, Val Accuracy: 0.7731\n",
            "Epoch 61, Train Loss: 0.3922, Train Accuracy: 0.8421, Val Loss: 0.5055, Val Accuracy: 0.8235\n",
            "Epoch 62, Train Loss: 0.4251, Train Accuracy: 0.8309, Val Loss: 0.4927, Val Accuracy: 0.7955\n",
            "Epoch 63, Train Loss: 0.4079, Train Accuracy: 0.8405, Val Loss: 0.4941, Val Accuracy: 0.8151\n",
            "Epoch 64, Train Loss: 0.3748, Train Accuracy: 0.8478, Val Loss: 0.5239, Val Accuracy: 0.8123\n",
            "Epoch 65, Train Loss: 0.3827, Train Accuracy: 0.8438, Val Loss: 0.4647, Val Accuracy: 0.8319\n",
            "Epoch 66, Train Loss: 0.3595, Train Accuracy: 0.8526, Val Loss: 0.5280, Val Accuracy: 0.8039\n",
            "Epoch 67, Train Loss: 0.3716, Train Accuracy: 0.8558, Val Loss: 0.5147, Val Accuracy: 0.8235\n",
            "Epoch 68, Train Loss: 0.5073, Train Accuracy: 0.7933, Val Loss: 0.5487, Val Accuracy: 0.8151\n",
            "Epoch 69, Train Loss: 0.4010, Train Accuracy: 0.8357, Val Loss: 0.5383, Val Accuracy: 0.8179\n",
            "Epoch 70, Train Loss: 0.3651, Train Accuracy: 0.8446, Val Loss: 0.5425, Val Accuracy: 0.7955\n",
            "Epoch 71, Train Loss: 0.4104, Train Accuracy: 0.8333, Val Loss: 0.5407, Val Accuracy: 0.8179\n",
            "Epoch 72, Train Loss: 0.3859, Train Accuracy: 0.8502, Val Loss: 0.6119, Val Accuracy: 0.8095\n",
            "Epoch 73, Train Loss: 0.3970, Train Accuracy: 0.8421, Val Loss: 0.5056, Val Accuracy: 0.8039\n",
            "Epoch 74, Train Loss: 0.3940, Train Accuracy: 0.8502, Val Loss: 0.4915, Val Accuracy: 0.8151\n",
            "Epoch 75, Train Loss: 0.3767, Train Accuracy: 0.8454, Val Loss: 0.4930, Val Accuracy: 0.7871\n",
            "Epoch 76, Train Loss: 0.3622, Train Accuracy: 0.8558, Val Loss: 0.5842, Val Accuracy: 0.8039\n",
            "Epoch 77, Train Loss: 0.3790, Train Accuracy: 0.8502, Val Loss: 0.4944, Val Accuracy: 0.8235\n",
            "Epoch 78, Train Loss: 0.3683, Train Accuracy: 0.8510, Val Loss: 0.4904, Val Accuracy: 0.8375\n",
            "Epoch 79, Train Loss: 0.3591, Train Accuracy: 0.8550, Val Loss: 0.4885, Val Accuracy: 0.8291\n",
            "Epoch 80, Train Loss: 0.3533, Train Accuracy: 0.8606, Val Loss: 0.4696, Val Accuracy: 0.8347\n",
            "Epoch 81, Train Loss: 0.3952, Train Accuracy: 0.8365, Val Loss: 0.5974, Val Accuracy: 0.8011\n",
            "Epoch 82, Train Loss: 0.3218, Train Accuracy: 0.8614, Val Loss: 0.5232, Val Accuracy: 0.8263\n",
            "Epoch 83, Train Loss: 0.3668, Train Accuracy: 0.8502, Val Loss: 0.5310, Val Accuracy: 0.8347\n",
            "Epoch 84, Train Loss: 0.4481, Train Accuracy: 0.8381, Val Loss: 0.5239, Val Accuracy: 0.8151\n",
            "Epoch 85, Train Loss: 0.4485, Train Accuracy: 0.8261, Val Loss: 0.5489, Val Accuracy: 0.8179\n",
            "Epoch 86, Train Loss: 0.4183, Train Accuracy: 0.8285, Val Loss: 0.5473, Val Accuracy: 0.7955\n",
            "Epoch 87, Train Loss: 0.3682, Train Accuracy: 0.8518, Val Loss: 0.4908, Val Accuracy: 0.8263\n",
            "Epoch 88, Train Loss: 0.3635, Train Accuracy: 0.8502, Val Loss: 0.5310, Val Accuracy: 0.8123\n",
            "Epoch 89, Train Loss: 0.3660, Train Accuracy: 0.8534, Val Loss: 0.5204, Val Accuracy: 0.8375\n",
            "Epoch 90, Train Loss: 0.3344, Train Accuracy: 0.8734, Val Loss: 0.5314, Val Accuracy: 0.8263\n",
            "Epoch 91, Train Loss: 0.3294, Train Accuracy: 0.8718, Val Loss: 0.5090, Val Accuracy: 0.8375\n",
            "Epoch 92, Train Loss: 0.3071, Train Accuracy: 0.8766, Val Loss: 0.5600, Val Accuracy: 0.8375\n",
            "Epoch 93, Train Loss: 0.3169, Train Accuracy: 0.8806, Val Loss: 0.5837, Val Accuracy: 0.8011\n",
            "Epoch 94, Train Loss: 0.3517, Train Accuracy: 0.8670, Val Loss: 0.5440, Val Accuracy: 0.8347\n",
            "Epoch 95, Train Loss: 0.3315, Train Accuracy: 0.8614, Val Loss: 0.5406, Val Accuracy: 0.7983\n",
            "Epoch 96, Train Loss: 0.3161, Train Accuracy: 0.8742, Val Loss: 0.5880, Val Accuracy: 0.8039\n",
            "Epoch 97, Train Loss: 0.3359, Train Accuracy: 0.8662, Val Loss: 0.5341, Val Accuracy: 0.8095\n",
            "Epoch 98, Train Loss: 0.3563, Train Accuracy: 0.8646, Val Loss: 0.5764, Val Accuracy: 0.7871\n",
            "Epoch 99, Train Loss: 0.3720, Train Accuracy: 0.8502, Val Loss: 0.5074, Val Accuracy: 0.8207\n",
            "Epoch 100, Train Loss: 0.3666, Train Accuracy: 0.8526, Val Loss: 0.4887, Val Accuracy: 0.8263\n"
          ]
        }
      ],
      "source": [
        "import matplotlib.pyplot as plt\n",
        "\n",
        "# 학습 및 검증 손실과 정확도를 저장할 리스트\n",
        "train_losses = []\n",
        "val_losses = []\n",
        "train_accuracies = []\n",
        "val_accuracies = []\n",
        "\n",
        "def train_epoch(model, data_loader, criterion, optimizer, device):\n",
        "    model.train()\n",
        "    running_loss = 0.0\n",
        "    correct = 0\n",
        "    total = 0\n",
        "    for batch in data_loader:\n",
        "        inputs, labels = batch[:2]\n",
        "        inputs = inputs.to(device)\n",
        "        labels = labels.to(device)\n",
        "        outputs = model(inputs)\n",
        "        loss = criterion(outputs, labels)\n",
        "        optimizer.zero_grad()\n",
        "        loss.backward()\n",
        "        optimizer.step()\n",
        "\n",
        "        running_loss += loss.item()\n",
        "        _, predicted = torch.max(outputs.data, 1)\n",
        "        total += labels.size(0)\n",
        "        correct += (predicted == labels).sum().item()\n",
        "\n",
        "    avg_loss = running_loss / len(data_loader)\n",
        "    accuracy = correct / total\n",
        "    return avg_loss, accuracy\n",
        "\n",
        "def e_model(model, data_loader, criterion, device):\n",
        "    model.eval()\n",
        "    running_loss = 0.0\n",
        "    correct = 0\n",
        "    total = 0\n",
        "    with torch.no_grad():\n",
        "        for batch in data_loader:\n",
        "            inputs, labels = batch[:2]\n",
        "            inputs = inputs.to(device)\n",
        "            labels = labels.to(device)\n",
        "            outputs = model(inputs)\n",
        "            loss = criterion(outputs, labels)\n",
        "\n",
        "            running_loss += loss.item()\n",
        "            _, predicted = torch.max(outputs.data, 1)\n",
        "            total += labels.size(0)\n",
        "            correct += (predicted == labels).sum().item()\n",
        "\n",
        "    avg_loss = running_loss / len(data_loader)\n",
        "    accuracy = correct / total\n",
        "    return avg_loss, accuracy\n",
        "\n",
        "# 학습 루프\n",
        "for epoch in range(num_epochs):\n",
        "    #scheduler.step()\n",
        "    train_loss, train_accuracy = train_epoch(model, train_loader, criterion, optimizer, device)\n",
        "    val_loss, val_accuracy = e_model(model, val_loader, criterion, device)\n",
        "\n",
        "    if early_stopping(val_loss):\n",
        "        print(f\"Early stopping at epoch {epoch+1}\")\n",
        "        break\n",
        "\n",
        "    train_losses.append(train_loss)\n",
        "    val_losses.append(val_loss)\n",
        "    train_accuracies.append(train_accuracy)\n",
        "    val_accuracies.append(val_accuracy)\n",
        "\n",
        "\n",
        "\n",
        "    print(f\"Epoch {epoch+1}, Train Loss: {train_loss:.4f}, Train Accuracy: {train_accuracy:.4f}, Val Loss: {val_loss:.4f}, Val Accuracy: {val_accuracy:.4f}\")"
      ]
    },
    {
      "cell_type": "code",
      "execution_count": 19,
      "metadata": {},
      "outputs": [
        {
          "data": {
            "text/plain": [
              "'\\nepochs = [100, 200, 500, 1000, 2000]\\n\\nfor num_epochs in epochs:\\n    for epoch in range(num_epochs):\\n        #scheduler.step()\\n        train_loss, train_accuracy = train_epoch(model, train_loader, criterion, optimizer, device)\\n        val_loss, val_accuracy = e_model(model, val_loader, criterion, device)\\n\\n        if early_stopping(val_loss):\\n            print(f\"Early stopping at epoch {epoch+1}\")\\n            break\\n\\n        train_losses.append(train_loss)\\n        val_losses.append(val_loss)\\n        train_accuracies.append(train_accuracy)\\n        val_accuracies.append(val_accuracy)\\n'"
            ]
          },
          "execution_count": 19,
          "metadata": {},
          "output_type": "execute_result"
        }
      ],
      "source": [
        "'''\n",
        "epochs = [100, 200, 500, 1000, 2000]\n",
        "\n",
        "for num_epochs in epochs:\n",
        "    for epoch in range(num_epochs):\n",
        "        #scheduler.step()\n",
        "        train_loss, train_accuracy = train_epoch(model, train_loader, criterion, optimizer, device)\n",
        "        val_loss, val_accuracy = e_model(model, val_loader, criterion, device)\n",
        "\n",
        "        if early_stopping(val_loss):\n",
        "            print(f\"Early stopping at epoch {epoch+1}\")\n",
        "            break\n",
        "\n",
        "        train_losses.append(train_loss)\n",
        "        val_losses.append(val_loss)\n",
        "        train_accuracies.append(train_accuracy)\n",
        "        val_accuracies.append(val_accuracy)\n",
        "'''"
      ]
    },
    {
      "cell_type": "code",
      "execution_count": 20,
      "metadata": {
        "colab": {
          "base_uri": "https://localhost:8080/",
          "height": 487
        },
        "id": "TuLY5kKoWkOX",
        "outputId": "eb4e0be8-4c67-4bbf-dc2f-37f25b99d016"
      },
      "outputs": [
        {
          "data": {
            "image/png": "[encoded data removed]",
            "text/plain": [
              "<Figure size 1200x500 with 2 Axes>"
            ]
          },
          "metadata": {},
          "output_type": "display_data"
        }
      ],
      "source": [
        "plt.figure(figsize=(12, 5))\n",
        "plt.subplot(1, 2, 1)\n",
        "plt.plot(train_losses, label='Train Loss')\n",
        "plt.plot(val_losses, label='Validation Loss')\n",
        "plt.title('Loss Over Epochs')\n",
        "plt.xlabel('Epoch')\n",
        "plt.ylabel('Loss')\n",
        "plt.legend()\n",
        "\n",
        "plt.subplot(1, 2, 2)\n",
        "plt.plot(train_accuracies, label='Train Accuracy')\n",
        "plt.plot(val_accuracies, label='Validation Accuracy')\n",
        "plt.title('Accuracy Over Epochs')\n",
        "plt.xlabel('Epoch')\n",
        "plt.ylabel('Accuracy')\n",
        "plt.legend()\n",
        "\n",
        "plt.show()"
      ]
    },
    {
      "cell_type": "code",
      "execution_count": 21,
      "metadata": {
        "colab": {
          "base_uri": "https://localhost:8080/",
          "height": 784
        },
        "id": "N7RXJO4p5Vj_",
        "outputId": "c479ea4d-822b-47f3-ce39-95580a2b93c9"
      },
      "outputs": [
        {
          "name": "stdout",
          "output_type": "stream",
          "text": [
            "              precision    recall  f1-score   support\n",
            "\n",
            "           0       0.69      0.67      0.68        43\n",
            "           1       0.67      0.91      0.77        46\n",
            "           2       0.83      0.74      0.78        46\n",
            "           3       0.85      0.64      0.73        44\n",
            "\n",
            "    accuracy                           0.74       179\n",
            "   macro avg       0.76      0.74      0.74       179\n",
            "weighted avg       0.76      0.74      0.74       179\n",
            "\n",
            "Accuracy: 0.7430167597765364\n"
          ]
        },
        {
          "data": {
            "image/png": "[encoded data removed]",
            "text/plain": [
              "<Figure size 800x600 with 2 Axes>"
            ]
          },
          "metadata": {},
          "output_type": "display_data"
        }
      ],
      "source": [
        "from sklearn.metrics import classification_report, accuracy_score\n",
        "import matplotlib.pyplot as plt\n",
        "import seaborn as sns\n",
        "from sklearn.metrics import confusion_matrix\n",
        "\n",
        "# 모델 평가 함수\n",
        "def evaluate_model(model, data_loader):\n",
        "    model.eval()\n",
        "    true_labels = []\n",
        "    pred_labels = []\n",
        "    file_paths = []  # 파일 경로 저장\n",
        "    with torch.no_grad():\n",
        "        for inputs, labels, paths in data_loader:\n",
        "            inputs = inputs.float().to(device)  #입력 데이터를 float 타입으로 변환\n",
        "            outputs = model(inputs)\n",
        "            _, predicted = torch.max(outputs, 1)\n",
        "            true_labels.extend(labels.cpu().numpy())\n",
        "            pred_labels.extend(predicted.cpu().numpy())\n",
        "            file_paths.extend(paths)  # 파일 경로 추가\n",
        "    return true_labels, pred_labels, file_paths\n",
        "\n",
        "# 평가 실행\n",
        "actual_labels, predicted_labels, file_paths = evaluate_model(model, test_loader)\n",
        "#for path, true_label, pred_label in zip(file_paths, actual_labels, predicted_labels):\n",
        "    #print(f'File: {path}, Actual Label: {true_label}, Predicted Label: {pred_label}')\n",
        "\n",
        "# 성능 메트릭 출력\n",
        "print(classification_report(actual_labels, predicted_labels))\n",
        "print(\"Accuracy:\", accuracy_score(actual_labels, predicted_labels))\n",
        "\n",
        "# 혼동 행렬 생성\n",
        "cm = confusion_matrix(actual_labels, predicted_labels)\n",
        "\n",
        "# 혼동 행렬 시각화\n",
        "plt.figure(figsize=(8, 6))\n",
        "sns.heatmap(cm, annot=True, fmt=\"d\", cmap=\"Blues\", xticklabels=(0, 1, 2, 3), yticklabels=(0, 1, 2, 3))\n",
        "plt.title('Confusion Matrix')\n",
        "plt.ylabel('Actual Labels')\n",
        "plt.xlabel('Predicted Labels')\n",
        "plt.show()"
      ]
    },
    {
      "cell_type": "code",
      "execution_count": 22,
      "metadata": {},
      "outputs": [
        {
          "name": "stdout",
          "output_type": "stream",
          "text": [
            "File: ./Label_DATA_XXL_XXL\\No Force\\F23(2867-3161).csv, Actual Label: 0, Predicted Label: 2\n",
            "File: ./Label_DATA_XXL_XXL\\No Force\\F40(5966-6001).csv, Actual Label: 0, Predicted Label: 3\n",
            "File: ./Label_DATA_XXL_XXL\\Deforming\\F21(882-1364) - 복사본.csv, Actual Label: 2, Predicted Label: 0\n",
            "File: ./Label_DATA_XXL_XXL\\Deforming\\F34(2101-2220).csv, Actual Label: 2, Predicted Label: 0\n",
            "File: ./Label_DATA_XXL_XXL\\No Force\\F23(222-234).csv, Actual Label: 0, Predicted Label: 3\n",
            "File: ./Label_DATA_XXL_XXL\\Applying Force\\F39(5398-5424) - 복사본.csv, Actual Label: 1, Predicted Label: 3\n",
            "File: ./Label_DATA_XXL_XXL\\Deforming\\F34(4275-4346) - 복사본.csv, Actual Label: 2, Predicted Label: 1\n",
            "File: ./Label_DATA_XXL_XXL\\Deforming\\F21(2438-2761) - 복사본.csv, Actual Label: 2, Predicted Label: 0\n",
            "File: ./Label_DATA_XXL_XXL\\Releasing Force\\F26(1876-1919) - 복사본.csv, Actual Label: 3, Predicted Label: 1\n",
            "File: ./Label_DATA_XXL_XXL\\Deforming\\F23(3219-3421) - 복사본.csv, Actual Label: 2, Predicted Label: 0\n",
            "File: ./Label_DATA_XXL_XXL\\Deforming\\F21(2938-3392) - 복사본.csv, Actual Label: 2, Predicted Label: 0\n",
            "File: ./Label_DATA_XXL_XXL\\No Force\\F24(5525-5778).csv, Actual Label: 0, Predicted Label: 2\n",
            "File: ./Label_DATA_XXL_XXL\\Releasing Force\\F21(5660-5690).csv, Actual Label: 3, Predicted Label: 0\n",
            "File: ./Label_DATA_XXL_XXL\\Deforming\\F25(3568-3924) - 복사본.csv, Actual Label: 2, Predicted Label: 0\n",
            "File: ./Label_DATA_XXL_XXL\\Releasing Force\\F23(2835-2866) - 복사본.csv, Actual Label: 3, Predicted Label: 1\n",
            "File: ./Label_DATA_XXL_XXL\\No Force\\F25(3360-3525).csv, Actual Label: 0, Predicted Label: 2\n",
            "File: ./Label_DATA_XXL_XXL\\Releasing Force\\F25(3925-3951).csv, Actual Label: 3, Predicted Label: 1\n",
            "File: ./Label_DATA_XXL_XXL\\Deforming\\F32(4879-5083).csv, Actual Label: 2, Predicted Label: 0\n",
            "File: ./Label_DATA_XXL_XXL\\No Force\\F30(1241-1307).csv, Actual Label: 0, Predicted Label: 1\n",
            "File: ./Label_DATA_XXL_XXL\\No Force\\F30(935-1036).csv, Actual Label: 0, Predicted Label: 1\n",
            "File: ./Label_DATA_XXL_XXL\\Releasing Force\\F21(3393-3446).csv, Actual Label: 3, Predicted Label: 0\n",
            "File: ./Label_DATA_XXL_XXL\\Releasing Force\\F21(3393-3446) - 복사본.csv, Actual Label: 3, Predicted Label: 0\n",
            "File: ./Label_DATA_XXL_XXL\\Releasing Force\\F32(3253-3343) - 복사본.csv, Actual Label: 3, Predicted Label: 0\n",
            "File: ./Label_DATA_XXL_XXL\\Releasing Force\\F33(879-928) - 복사본.csv, Actual Label: 3, Predicted Label: 1\n",
            "File: ./Label_DATA_XXL_XXL\\Applying Force\\F32(2991-3089).csv, Actual Label: 1, Predicted Label: 0\n",
            "File: ./Label_DATA_XXL_XXL\\Releasing Force\\F33(2378-2454).csv, Actual Label: 3, Predicted Label: 1\n",
            "File: ./Label_DATA_XXL_XXL\\Releasing Force\\F25(1053-1090) - 복사본.csv, Actual Label: 3, Predicted Label: 1\n",
            "File: ./Label_DATA_XXL_XXL\\Releasing Force\\F23(3422-3452).csv, Actual Label: 3, Predicted Label: 1\n",
            "File: ./Label_DATA_XXL_XXL\\Releasing Force\\F24(2299-2338).csv, Actual Label: 3, Predicted Label: 1\n",
            "File: ./Label_DATA_XXL_XXL\\No Force\\F16(5967-6001).csv, Actual Label: 0, Predicted Label: 1\n",
            "File: ./Label_DATA_XXL_XXL\\No Force\\F40(5203-5369).csv, Actual Label: 0, Predicted Label: 2\n",
            "File: ./Label_DATA_XXL_XXL\\No Force\\F41(5382-5458).csv, Actual Label: 0, Predicted Label: 1\n",
            "File: ./Label_DATA_XXL_XXL\\Releasing Force\\F40(1195-1229).csv, Actual Label: 3, Predicted Label: 1\n",
            "File: ./Label_DATA_XXL_XXL\\No Force\\F30(4072-4232).csv, Actual Label: 0, Predicted Label: 2\n",
            "File: ./Label_DATA_XXL_XXL\\No Force\\F38(1100-1217).csv, Actual Label: 0, Predicted Label: 2\n",
            "File: ./Label_DATA_XXL_XXL\\Deforming\\F35(2753-2830) - 복사본.csv, Actual Label: 2, Predicted Label: 1\n",
            "File: ./Label_DATA_XXL_XXL\\Deforming\\F34(5614-5775).csv, Actual Label: 2, Predicted Label: 0\n",
            "File: ./Label_DATA_XXL_XXL\\Releasing Force\\F38(5896-5935) - 복사본.csv, Actual Label: 3, Predicted Label: 1\n",
            "File: ./Label_DATA_XXL_XXL\\Deforming\\F36(444-563).csv, Actual Label: 2, Predicted Label: 1\n",
            "File: ./Label_DATA_XXL_XXL\\No Force\\F41(4398-4456).csv, Actual Label: 0, Predicted Label: 1\n",
            "File: ./Label_DATA_XXL_XXL\\Applying Force\\F33(3842-3888).csv, Actual Label: 1, Predicted Label: 3\n",
            "File: ./Label_DATA_XXL_XXL\\Applying Force\\F23(3664-3687).csv, Actual Label: 1, Predicted Label: 3\n",
            "File: ./Label_DATA_XXL_XXL\\Deforming\\F32(951-1020).csv, Actual Label: 2, Predicted Label: 1\n",
            "File: ./Label_DATA_XXL_XXL\\Releasing Force\\F23(3422-3452) - 복사본.csv, Actual Label: 3, Predicted Label: 1\n",
            "File: ./Label_DATA_XXL_XXL\\Releasing Force\\F32(5568-5623) - 복사본.csv, Actual Label: 3, Predicted Label: 1\n",
            "File: ./Label_DATA_XXL_XXL\\No Force\\F32(3345-3564).csv, Actual Label: 0, Predicted Label: 2\n"
          ]
        }
      ],
      "source": [
        "# 평가 실행 및 파일 경로 출력\n",
        "actual_labels, predicted_labels, file_paths = evaluate_model(model, test_loader)\n",
        "\n",
        "# 실제 레이블과 예측 레이블이 다른 경우만 출력\n",
        "for path, true_label, pred_label in zip(file_paths, actual_labels, predicted_labels):\n",
        "    if true_label != pred_label:\n",
        "        print(f'File: {path}, Actual Label: {true_label}, Predicted Label: {pred_label}')"
      ]
    },
    {
      "cell_type": "code",
      "execution_count": 23,
      "metadata": {
        "colab": {
          "base_uri": "https://localhost:8080/",
          "height": 564
        },
        "id": "BaRzDc6pZeDy",
        "outputId": "43ea942e-337b-433e-8999-d67339225837"
      },
      "outputs": [
        {
          "data": {
            "image/png": "[encoded data removed]",
            "text/plain": [
              "<Figure size 800x600 with 1 Axes>"
            ]
          },
          "metadata": {},
          "output_type": "display_data"
        }
      ],
      "source": [
        "import pandas as pd\n",
        "\n",
        "# 분류 보고서를 데이터프레임으로 변환\n",
        "report = classification_report(actual_labels, predicted_labels, output_dict=True)\n",
        "df_report = pd.DataFrame(report).transpose()\n",
        "\n",
        "# 분류 보고서 시각화\n",
        "#df_report.drop(['accuracy'], inplace=True)  # 'accuracy' row는 제외하고 시각화\n",
        "df_report['support'] = df_report['support'].apply(int)  # support를 정수로 변환\n",
        "\n",
        "fig, ax = plt.subplots(figsize=(8, 6))\n",
        "df_report[['precision', 'recall', 'f1-score']].plot(kind='barh', ax=ax)\n",
        "ax.set_title('Classification Report')\n",
        "ax.set_xlabel('Score')\n",
        "plt.show()"
      ]
    },
    {
      "cell_type": "code",
      "execution_count": 24,
      "metadata": {
        "id": "DIuiyteUCvlP"
      },
      "outputs": [
        {
          "data": {
            "text/plain": [
              "\"\\ndef save_checkpoint(model, optimizer, epoch, loss, filepath):\\n    torch.save({\\n        'epoch': epoch,\\n        'model_state_dict': model.state_dict(),\\n        'optimizer_state_dict': optimizer.state_dict(),\\n        'loss': loss,\\n    }, filepath)\\n\\nsave_checkpoint(model, optimizer, epoch, train_loss, './Acc76.pth')\\n\""
            ]
          },
          "execution_count": 24,
          "metadata": {},
          "output_type": "execute_result"
        }
      ],
      "source": [
        "'''\n",
        "def save_checkpoint(model, optimizer, epoch, loss, filepath):\n",
        "    torch.save({\n",
        "        'epoch': epoch,\n",
        "        'model_state_dict': model.state_dict(),\n",
        "        'optimizer_state_dict': optimizer.state_dict(),\n",
        "        'loss': loss,\n",
        "    }, filepath)\n",
        "\n",
        "save_checkpoint(model, optimizer, epoch, train_loss, './Acc76.pth')\n",
        "'''"
      ]
    },
    {
      "cell_type": "code",
      "execution_count": 25,
      "metadata": {
        "id": "C-Pi5NRNCyRE"
      },
      "outputs": [
        {
          "data": {
            "text/plain": [
              "\"\\ndef load_checkpoint(filepath, model, optimizer):\\n    checkpoint = torch.load(filepath)\\n    model.load_state_dict(checkpoint['model_state_dict'])\\n    optimizer.load_state_dict(checkpoint['optimizer_state_dict'])\\n    epoch = checkpoint['epoch']\\n    loss = checkpoint['loss']\\n    return model, optimizer, epoch, loss\\n\\n# 모델과 옵티마이저 인스턴스를 생성한 뒤, 체크포인트 로드\\nmodel = TransformerModel(input_size, num_classes, device=device).to(device)\\noptimizer = torch.optim.Adam(model.parameters(), lr=0.0001)\\n\\n# 체크포인트 파일 로드\\nmodel, optimizer, start_epoch, last_loss = load_checkpoint('model_checkpoint.pth', model, optimizer)\\n\""
            ]
          },
          "execution_count": 25,
          "metadata": {},
          "output_type": "execute_result"
        }
      ],
      "source": [
        "'''\n",
        "def load_checkpoint(filepath, model, optimizer):\n",
        "    checkpoint = torch.load(filepath)\n",
        "    model.load_state_dict(checkpoint['model_state_dict'])\n",
        "    optimizer.load_state_dict(checkpoint['optimizer_state_dict'])\n",
        "    epoch = checkpoint['epoch']\n",
        "    loss = checkpoint['loss']\n",
        "    return model, optimizer, epoch, loss\n",
        "\n",
        "# 모델과 옵티마이저 인스턴스를 생성한 뒤, 체크포인트 로드\n",
        "model = TransformerModel(input_size, num_classes, device=device).to(device)\n",
        "optimizer = torch.optim.Adam(model.parameters(), lr=0.0001)\n",
        "\n",
        "# 체크포인트 파일 로드\n",
        "model, optimizer, start_epoch, last_loss = load_checkpoint('model_checkpoint.pth', model, optimizer)\n",
        "'''"
      ]
    },
    {
      "cell_type": "code",
      "execution_count": 26,
      "metadata": {},
      "outputs": [
        {
          "name": "stdout",
          "output_type": "stream",
          "text": [
            "Requirement already satisfied: onnx in c:\\users\\jy\\anaconda3\\envs\\jy3\\lib\\site-packages (1.16.1)\n",
            "Requirement already satisfied: onnxruntime in c:\\users\\jy\\anaconda3\\envs\\jy3\\lib\\site-packages (1.18.1)\n",
            "Requirement already satisfied: numpy>=1.20 in c:\\users\\jy\\anaconda3\\envs\\jy3\\lib\\site-packages (from onnx) (1.24.4)\n",
            "Requirement already satisfied: protobuf>=3.20.2 in c:\\users\\jy\\anaconda3\\envs\\jy3\\lib\\site-packages (from onnx) (5.27.2)\n",
            "Requirement already satisfied: coloredlogs in c:\\users\\jy\\anaconda3\\envs\\jy3\\lib\\site-packages (from onnxruntime) (15.0.1)\n",
            "Requirement already satisfied: flatbuffers in c:\\users\\jy\\anaconda3\\envs\\jy3\\lib\\site-packages (from onnxruntime) (20210226132247)\n",
            "Requirement already satisfied: packaging in c:\\users\\jy\\anaconda3\\envs\\jy3\\lib\\site-packages (from onnxruntime) (23.1)\n",
            "Requirement already satisfied: sympy in c:\\users\\jy\\anaconda3\\envs\\jy3\\lib\\site-packages (from onnxruntime) (1.12)\n",
            "Requirement already satisfied: humanfriendly>=9.1 in c:\\users\\jy\\anaconda3\\envs\\jy3\\lib\\site-packages (from coloredlogs->onnxruntime) (10.0)\n",
            "Requirement already satisfied: mpmath>=0.19 in c:\\users\\jy\\anaconda3\\envs\\jy3\\lib\\site-packages (from sympy->onnxruntime) (1.3.0)\n",
            "Requirement already satisfied: pyreadline3 in c:\\users\\jy\\anaconda3\\envs\\jy3\\lib\\site-packages (from humanfriendly>=9.1->coloredlogs->onnxruntime) (3.4.1)\n",
            "Note: you may need to restart the kernel to use updated packages.\n"
          ]
        }
      ],
      "source": [
        "pip install onnx onnxruntime"
      ]
    },
    {
      "cell_type": "code",
      "execution_count": 27,
      "metadata": {},
      "outputs": [],
      "source": [
        "# from torch.onnx import export\n",
        "# import torch\n",
        "# from torch import Tensor, device\n",
        "# from pathlib import Path\n",
        "\n",
        "# # 모델을 ONNX 포맷으로 저장\n",
        "# dummy_input = torch.randn(16, 512, 3, device=device)  # 모델의 입력 형태에 맞게 더미 입력 생성\n",
        "# onnx_file_path = \"transformer_model.onnx\"\n",
        "# torch.onnx.export(model, dummy_input, onnx_file_path, \n",
        "#                   input_names=['input'], output_names=['output'], \n",
        "#                   dynamic_axes={'input': {0: 'batch_size', 1: 'sequence'}, 'output': {0: 'batch_size'}},\n",
        "#                   opset_version=11)\n",
        "# print(f\"Model has been saved to {onnx_file_path}\")"
      ]
    },
    {
      "cell_type": "code",
      "execution_count": null,
      "metadata": {},
      "outputs": [],
      "source": []
    }
  ],
  "metadata": {
    "accelerator": "GPU",
    "colab": {
      "gpuType": "T4",
      "provenance": []
    },
    "kernelspec": {
      "display_name": "jy3",
      "language": "python",
      "name": "jy3"
    },
    "language_info": {
      "codemirror_mode": {
        "name": "ipython",
        "version": 3
      },
      "file_extension": ".py",
      "mimetype": "text/x-python",
      "name": "python",
      "nbconvert_exporter": "python",
      "pygments_lexer": "ipython3",
      "version": "3.8.18"
    }
  },
  "nbformat": 4,
  "nbformat_minor": 0
}
